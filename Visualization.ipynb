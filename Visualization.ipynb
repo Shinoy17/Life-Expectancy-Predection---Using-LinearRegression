{
 "cells": [
  {
   "cell_type": "code",
   "execution_count": 1,
   "metadata": {},
   "outputs": [],
   "source": [
    "import pandas as pd\n",
    "import numpy as np\n",
    "import matplotlib.pyplot as plt"
   ]
  },
  {
   "cell_type": "markdown",
   "metadata": {},
   "source": [
    "## Importing the dataset and cleaning Data"
   ]
  },
  {
   "cell_type": "code",
   "execution_count": 2,
   "metadata": {},
   "outputs": [
    {
     "data": {
      "text/html": [
       "<div>\n",
       "<style scoped>\n",
       "    .dataframe tbody tr th:only-of-type {\n",
       "        vertical-align: middle;\n",
       "    }\n",
       "\n",
       "    .dataframe tbody tr th {\n",
       "        vertical-align: top;\n",
       "    }\n",
       "\n",
       "    .dataframe thead th {\n",
       "        text-align: right;\n",
       "    }\n",
       "</style>\n",
       "<table border=\"1\" class=\"dataframe\">\n",
       "  <thead>\n",
       "    <tr style=\"text-align: right;\">\n",
       "      <th></th>\n",
       "      <th>Country</th>\n",
       "      <th>Year</th>\n",
       "      <th>Life expectancy</th>\n",
       "      <th>Adult Mortality</th>\n",
       "      <th>infant deaths</th>\n",
       "      <th>Alcohol</th>\n",
       "      <th>percentage expenditure</th>\n",
       "      <th>Hepatitis B</th>\n",
       "      <th>Measles</th>\n",
       "      <th>BMI</th>\n",
       "      <th>Polio</th>\n",
       "      <th>Diphtheria</th>\n",
       "      <th>HIV/AIDS</th>\n",
       "      <th>GDP</th>\n",
       "    </tr>\n",
       "  </thead>\n",
       "  <tbody>\n",
       "    <tr>\n",
       "      <th>0</th>\n",
       "      <td>Afghanistan</td>\n",
       "      <td>2015</td>\n",
       "      <td>65.0</td>\n",
       "      <td>263.0</td>\n",
       "      <td>62.0</td>\n",
       "      <td>0.01</td>\n",
       "      <td>71.279624</td>\n",
       "      <td>65.0</td>\n",
       "      <td>1154</td>\n",
       "      <td>19.1</td>\n",
       "      <td>6.0</td>\n",
       "      <td>65.0</td>\n",
       "      <td>0.1</td>\n",
       "      <td>584.259210</td>\n",
       "    </tr>\n",
       "    <tr>\n",
       "      <th>1</th>\n",
       "      <td>Afghanistan</td>\n",
       "      <td>2014</td>\n",
       "      <td>59.9</td>\n",
       "      <td>271.0</td>\n",
       "      <td>64.0</td>\n",
       "      <td>0.01</td>\n",
       "      <td>73.523582</td>\n",
       "      <td>62.0</td>\n",
       "      <td>492</td>\n",
       "      <td>18.6</td>\n",
       "      <td>58.0</td>\n",
       "      <td>62.0</td>\n",
       "      <td>0.1</td>\n",
       "      <td>612.696514</td>\n",
       "    </tr>\n",
       "    <tr>\n",
       "      <th>2</th>\n",
       "      <td>Afghanistan</td>\n",
       "      <td>2013</td>\n",
       "      <td>59.9</td>\n",
       "      <td>268.0</td>\n",
       "      <td>66.0</td>\n",
       "      <td>0.01</td>\n",
       "      <td>73.219243</td>\n",
       "      <td>64.0</td>\n",
       "      <td>430</td>\n",
       "      <td>18.1</td>\n",
       "      <td>62.0</td>\n",
       "      <td>64.0</td>\n",
       "      <td>0.1</td>\n",
       "      <td>631.744976</td>\n",
       "    </tr>\n",
       "    <tr>\n",
       "      <th>3</th>\n",
       "      <td>Afghanistan</td>\n",
       "      <td>2012</td>\n",
       "      <td>59.5</td>\n",
       "      <td>272.0</td>\n",
       "      <td>69.0</td>\n",
       "      <td>0.01</td>\n",
       "      <td>78.184215</td>\n",
       "      <td>67.0</td>\n",
       "      <td>2787</td>\n",
       "      <td>17.6</td>\n",
       "      <td>67.0</td>\n",
       "      <td>67.0</td>\n",
       "      <td>0.1</td>\n",
       "      <td>669.959000</td>\n",
       "    </tr>\n",
       "    <tr>\n",
       "      <th>4</th>\n",
       "      <td>Afghanistan</td>\n",
       "      <td>2011</td>\n",
       "      <td>59.2</td>\n",
       "      <td>275.0</td>\n",
       "      <td>71.0</td>\n",
       "      <td>0.01</td>\n",
       "      <td>7.097109</td>\n",
       "      <td>68.0</td>\n",
       "      <td>3013</td>\n",
       "      <td>17.2</td>\n",
       "      <td>68.0</td>\n",
       "      <td>68.0</td>\n",
       "      <td>0.1</td>\n",
       "      <td>63.537231</td>\n",
       "    </tr>\n",
       "  </tbody>\n",
       "</table>\n",
       "</div>"
      ],
      "text/plain": [
       "       Country  Year  Life expectancy   Adult Mortality  infant deaths  \\\n",
       "0  Afghanistan  2015              65.0            263.0           62.0   \n",
       "1  Afghanistan  2014              59.9            271.0           64.0   \n",
       "2  Afghanistan  2013              59.9            268.0           66.0   \n",
       "3  Afghanistan  2012              59.5            272.0           69.0   \n",
       "4  Afghanistan  2011              59.2            275.0           71.0   \n",
       "\n",
       "   Alcohol  percentage expenditure  Hepatitis B  Measles    BMI   Polio  \\\n",
       "0     0.01               71.279624         65.0      1154   19.1    6.0   \n",
       "1     0.01               73.523582         62.0       492   18.6   58.0   \n",
       "2     0.01               73.219243         64.0       430   18.1   62.0   \n",
       "3     0.01               78.184215         67.0      2787   17.6   67.0   \n",
       "4     0.01                7.097109         68.0      3013   17.2   68.0   \n",
       "\n",
       "   Diphtheria    HIV/AIDS         GDP  \n",
       "0         65.0        0.1  584.259210  \n",
       "1         62.0        0.1  612.696514  \n",
       "2         64.0        0.1  631.744976  \n",
       "3         67.0        0.1  669.959000  \n",
       "4         68.0        0.1   63.537231  "
      ]
     },
     "execution_count": 2,
     "metadata": {},
     "output_type": "execute_result"
    }
   ],
   "source": [
    "data = pd.read_csv('LifeExpectancyData.csv')\n",
    "raw_data = pd.read_csv('LifeExpectancyData.csv')\n",
    "\n",
    "data.head()"
   ]
  },
  {
   "cell_type": "code",
   "execution_count": 3,
   "metadata": {},
   "outputs": [
    {
     "data": {
      "text/plain": [
       "193"
      ]
     },
     "execution_count": 3,
     "metadata": {},
     "output_type": "execute_result"
    }
   ],
   "source": [
    "data['Country'].unique().size\n"
   ]
  },
  {
   "cell_type": "code",
   "execution_count": 4,
   "metadata": {},
   "outputs": [
    {
     "data": {
      "text/plain": [
       "Index(['Country', 'Year', 'Life expectancy ', 'Adult Mortality',\n",
       "       'infant deaths', 'Alcohol', 'percentage expenditure', 'Hepatitis B',\n",
       "       'Measles ', ' BMI ', 'Polio', 'Diphtheria ', ' HIV/AIDS', 'GDP'],\n",
       "      dtype='object')"
      ]
     },
     "execution_count": 4,
     "metadata": {},
     "output_type": "execute_result"
    }
   ],
   "source": [
    "data.columns"
   ]
  },
  {
   "cell_type": "code",
   "execution_count": 5,
   "metadata": {},
   "outputs": [
    {
     "data": {
      "text/plain": [
       "Country                     0\n",
       "Year                        0\n",
       "Life expectancy            10\n",
       "Adult Mortality            10\n",
       "infant deaths               0\n",
       "Alcohol                   194\n",
       "percentage expenditure      0\n",
       "Hepatitis B               553\n",
       "Measles                     0\n",
       " BMI                       34\n",
       "Polio                      19\n",
       "Diphtheria                 19\n",
       " HIV/AIDS                   0\n",
       "GDP                       448\n",
       "dtype: int64"
      ]
     },
     "execution_count": 5,
     "metadata": {},
     "output_type": "execute_result"
    }
   ],
   "source": [
    "pd.isna(data).sum()"
   ]
  },
  {
   "cell_type": "code",
   "execution_count": 6,
   "metadata": {},
   "outputs": [],
   "source": [
    "data['Life expectancy '] = data['Life expectancy '].fillna(np.mean(data['Life expectancy ']))\n",
    "data['Adult Mortality'] = data['Adult Mortality'].fillna(np.mean(data['Adult Mortality']))\n",
    "data['Alcohol'] = data['Alcohol'].fillna(np.mean(data['Alcohol']))\n",
    "data['Hepatitis B'] = data['Hepatitis B'].fillna(np.mean(data['Hepatitis B']))\n",
    "data[' BMI '] = data[' BMI '].fillna(np.mean(data[' BMI ']))\n",
    "data['Polio'] = data['Polio'].fillna(np.mean(data['Polio']))\n",
    "data['Diphtheria '] = data['Diphtheria '].fillna(np.mean(data['Diphtheria ']))\n",
    "data['GDP'] = data['GDP'].fillna(np.mean(data['GDP']))"
   ]
  },
  {
   "cell_type": "markdown",
   "metadata": {},
   "source": [
    "## Column Description of Data\n",
    "\n",
    "#### Life Expectancy:\n",
    "Life Expectancy in age (Years)\n",
    "\n",
    "#### Adult Mortality:\n",
    "Adult Mortality Rates of both sexes (number of people dying between 15 and 60 years per 1000 population)\n",
    "\n",
    "#### Infant Deaths:\n",
    "Number of Infant Deaths per 1000 births\n",
    "\n",
    "#### Alcohol\n",
    "Alcohol, recorded per capita (15+) consumption (in litres of pure alcohol)\n",
    "\n",
    "#### percentage expenditure\n",
    "Expenditure on health as a percentage of Gross Domestic Product per capita(%)\n",
    "\n",
    "#### Hepatitis B\n",
    "Hepatitis B (HepB) immunization coverage among 1-year-olds (%)\n",
    "\n",
    "#### Measles\n",
    "number of reported Measles cases per 1000 population\n",
    "\n",
    "#### BMI \n",
    "Average Body Mass Index\n",
    "\n",
    "#### Polio\n",
    "Polio immunization coverage among 1-year-olds (%)\n",
    "\n",
    "#### Diphtheria\n",
    "Diphtheria immunization coverage among 1-year-olds (%)\n",
    "\n",
    "### HIV/AIDS\t\n",
    "number of reported HIV/AIDS cases per 1000 population\n",
    "\n",
    "### GDP\n",
    "Average Gross Domestic Product per capita(%)"
   ]
  },
  {
   "cell_type": "markdown",
   "metadata": {},
   "source": [
    "## Statistical description of the data"
   ]
  },
  {
   "cell_type": "code",
   "execution_count": 7,
   "metadata": {},
   "outputs": [
    {
     "data": {
      "text/html": [
       "<div>\n",
       "<style scoped>\n",
       "    .dataframe tbody tr th:only-of-type {\n",
       "        vertical-align: middle;\n",
       "    }\n",
       "\n",
       "    .dataframe tbody tr th {\n",
       "        vertical-align: top;\n",
       "    }\n",
       "\n",
       "    .dataframe thead th {\n",
       "        text-align: right;\n",
       "    }\n",
       "</style>\n",
       "<table border=\"1\" class=\"dataframe\">\n",
       "  <thead>\n",
       "    <tr style=\"text-align: right;\">\n",
       "      <th></th>\n",
       "      <th>Life expectancy</th>\n",
       "      <th>Adult Mortality</th>\n",
       "      <th>infant deaths</th>\n",
       "      <th>Alcohol</th>\n",
       "      <th>percentage expenditure</th>\n",
       "      <th>Hepatitis B</th>\n",
       "      <th>Measles</th>\n",
       "      <th>BMI</th>\n",
       "      <th>Polio</th>\n",
       "      <th>Diphtheria</th>\n",
       "      <th>HIV/AIDS</th>\n",
       "      <th>GDP</th>\n",
       "    </tr>\n",
       "  </thead>\n",
       "  <tbody>\n",
       "    <tr>\n",
       "      <th>count</th>\n",
       "      <td>2928.000000</td>\n",
       "      <td>2928.000000</td>\n",
       "      <td>2938.000000</td>\n",
       "      <td>2744.000000</td>\n",
       "      <td>2938.000000</td>\n",
       "      <td>2385.000000</td>\n",
       "      <td>2938.000000</td>\n",
       "      <td>2904.000000</td>\n",
       "      <td>2919.000000</td>\n",
       "      <td>2919.000000</td>\n",
       "      <td>2938.000000</td>\n",
       "      <td>2490.000000</td>\n",
       "    </tr>\n",
       "    <tr>\n",
       "      <th>mean</th>\n",
       "      <td>69.224932</td>\n",
       "      <td>164.796448</td>\n",
       "      <td>23.137412</td>\n",
       "      <td>4.602861</td>\n",
       "      <td>738.251295</td>\n",
       "      <td>80.940461</td>\n",
       "      <td>2419.592240</td>\n",
       "      <td>38.321247</td>\n",
       "      <td>82.550188</td>\n",
       "      <td>82.324084</td>\n",
       "      <td>1.742103</td>\n",
       "      <td>7483.158469</td>\n",
       "    </tr>\n",
       "    <tr>\n",
       "      <th>std</th>\n",
       "      <td>9.523867</td>\n",
       "      <td>124.292079</td>\n",
       "      <td>60.493282</td>\n",
       "      <td>4.052413</td>\n",
       "      <td>1987.914858</td>\n",
       "      <td>25.070016</td>\n",
       "      <td>11467.272489</td>\n",
       "      <td>20.044034</td>\n",
       "      <td>23.428046</td>\n",
       "      <td>23.716912</td>\n",
       "      <td>5.077785</td>\n",
       "      <td>14270.169342</td>\n",
       "    </tr>\n",
       "    <tr>\n",
       "      <th>min</th>\n",
       "      <td>36.300000</td>\n",
       "      <td>1.000000</td>\n",
       "      <td>0.000000</td>\n",
       "      <td>0.010000</td>\n",
       "      <td>0.000000</td>\n",
       "      <td>1.000000</td>\n",
       "      <td>0.000000</td>\n",
       "      <td>1.000000</td>\n",
       "      <td>3.000000</td>\n",
       "      <td>2.000000</td>\n",
       "      <td>0.100000</td>\n",
       "      <td>1.681350</td>\n",
       "    </tr>\n",
       "    <tr>\n",
       "      <th>25%</th>\n",
       "      <td>63.100000</td>\n",
       "      <td>74.000000</td>\n",
       "      <td>0.000000</td>\n",
       "      <td>0.877500</td>\n",
       "      <td>4.685343</td>\n",
       "      <td>77.000000</td>\n",
       "      <td>0.000000</td>\n",
       "      <td>19.300000</td>\n",
       "      <td>78.000000</td>\n",
       "      <td>78.000000</td>\n",
       "      <td>0.100000</td>\n",
       "      <td>463.935626</td>\n",
       "    </tr>\n",
       "    <tr>\n",
       "      <th>50%</th>\n",
       "      <td>72.100000</td>\n",
       "      <td>144.000000</td>\n",
       "      <td>3.000000</td>\n",
       "      <td>3.755000</td>\n",
       "      <td>64.912906</td>\n",
       "      <td>92.000000</td>\n",
       "      <td>17.000000</td>\n",
       "      <td>43.500000</td>\n",
       "      <td>93.000000</td>\n",
       "      <td>93.000000</td>\n",
       "      <td>0.100000</td>\n",
       "      <td>1766.947595</td>\n",
       "    </tr>\n",
       "    <tr>\n",
       "      <th>75%</th>\n",
       "      <td>75.700000</td>\n",
       "      <td>228.000000</td>\n",
       "      <td>22.000000</td>\n",
       "      <td>7.702500</td>\n",
       "      <td>441.534144</td>\n",
       "      <td>97.000000</td>\n",
       "      <td>360.250000</td>\n",
       "      <td>56.200000</td>\n",
       "      <td>97.000000</td>\n",
       "      <td>97.000000</td>\n",
       "      <td>0.800000</td>\n",
       "      <td>5910.806335</td>\n",
       "    </tr>\n",
       "    <tr>\n",
       "      <th>max</th>\n",
       "      <td>89.000000</td>\n",
       "      <td>723.000000</td>\n",
       "      <td>576.000000</td>\n",
       "      <td>17.870000</td>\n",
       "      <td>19479.911610</td>\n",
       "      <td>99.000000</td>\n",
       "      <td>212183.000000</td>\n",
       "      <td>87.300000</td>\n",
       "      <td>99.000000</td>\n",
       "      <td>99.000000</td>\n",
       "      <td>50.600000</td>\n",
       "      <td>119172.741800</td>\n",
       "    </tr>\n",
       "  </tbody>\n",
       "</table>\n",
       "</div>"
      ],
      "text/plain": [
       "       Life expectancy   Adult Mortality  infant deaths      Alcohol  \\\n",
       "count       2928.000000      2928.000000    2938.000000  2744.000000   \n",
       "mean          69.224932       164.796448      23.137412     4.602861   \n",
       "std            9.523867       124.292079      60.493282     4.052413   \n",
       "min           36.300000         1.000000       0.000000     0.010000   \n",
       "25%           63.100000        74.000000       0.000000     0.877500   \n",
       "50%           72.100000       144.000000       3.000000     3.755000   \n",
       "75%           75.700000       228.000000      22.000000     7.702500   \n",
       "max           89.000000       723.000000     576.000000    17.870000   \n",
       "\n",
       "       percentage expenditure  Hepatitis B       Measles          BMI   \\\n",
       "count             2938.000000  2385.000000    2938.000000  2904.000000   \n",
       "mean               738.251295    80.940461    2419.592240    38.321247   \n",
       "std               1987.914858    25.070016   11467.272489    20.044034   \n",
       "min                  0.000000     1.000000       0.000000     1.000000   \n",
       "25%                  4.685343    77.000000       0.000000    19.300000   \n",
       "50%                 64.912906    92.000000      17.000000    43.500000   \n",
       "75%                441.534144    97.000000     360.250000    56.200000   \n",
       "max              19479.911610    99.000000  212183.000000    87.300000   \n",
       "\n",
       "             Polio  Diphtheria      HIV/AIDS            GDP  \n",
       "count  2919.000000  2919.000000  2938.000000    2490.000000  \n",
       "mean     82.550188    82.324084     1.742103    7483.158469  \n",
       "std      23.428046    23.716912     5.077785   14270.169342  \n",
       "min       3.000000     2.000000     0.100000       1.681350  \n",
       "25%      78.000000    78.000000     0.100000     463.935626  \n",
       "50%      93.000000    93.000000     0.100000    1766.947595  \n",
       "75%      97.000000    97.000000     0.800000    5910.806335  \n",
       "max      99.000000    99.000000    50.600000  119172.741800  "
      ]
     },
     "execution_count": 7,
     "metadata": {},
     "output_type": "execute_result"
    }
   ],
   "source": [
    "raw_data.drop(['Country', 'Year'], axis= \"columns\").describe()"
   ]
  },
  {
   "cell_type": "markdown",
   "metadata": {},
   "source": [
    "## Visual Analysis of Data"
   ]
  },
  {
   "cell_type": "code",
   "execution_count": 64,
   "metadata": {},
   "outputs": [
    {
     "data": {
      "text/plain": [
       "Index(['Country', 'Year', 'Life expectancy ', 'Adult Mortality',\n",
       "       'infant deaths', 'Alcohol', 'percentage expenditure', 'Hepatitis B',\n",
       "       'Measles ', ' BMI ', 'Polio', 'Diphtheria ', ' HIV/AIDS', 'GDP'],\n",
       "      dtype='object')"
      ]
     },
     "execution_count": 64,
     "metadata": {},
     "output_type": "execute_result"
    }
   ],
   "source": [
    "data.columns"
   ]
  },
  {
   "cell_type": "markdown",
   "metadata": {},
   "source": [
    "### Life Expectancy vs some Basic features"
   ]
  },
  {
   "cell_type": "code",
   "execution_count": 53,
   "metadata": {},
   "outputs": [
    {
     "data": {
      "text/plain": [
       "Text(0, 0.5, 'GDP')"
      ]
     },
     "execution_count": 53,
     "metadata": {},
     "output_type": "execute_result"
    },
    {
     "data": {
      "image/png": "[encoded data removed]",
      "text/plain": [
       "<Figure size 432x288 with 1 Axes>"
      ]
     },
     "metadata": {
      "needs_background": "light"
     },
     "output_type": "display_data"
    }
   ],
   "source": [
    "plt.bar(data['Life expectancy '], data ['GDP'])\n",
    "plt.xlabel (\"Life Expectancy\")\n",
    "plt.ylabel (\"GDP\")"
   ]
  },
  {
   "cell_type": "code",
   "execution_count": 67,
   "metadata": {},
   "outputs": [
    {
     "data": {
      "text/plain": [
       "Text(0, 0.5, ' BMI ')"
      ]
     },
     "execution_count": 67,
     "metadata": {},
     "output_type": "execute_result"
    },
    {
     "data": {
      "image/png": "[encoded data removed]",
      "text/plain": [
       "<Figure size 432x288 with 1 Axes>"
      ]
     },
     "metadata": {
      "needs_background": "light"
     },
     "output_type": "display_data"
    }
   ],
   "source": [
    "plt.bar(data['Life expectancy '], data [' BMI '])\n",
    "plt.xlabel (\"Life Expectancy\")\n",
    "plt.ylabel (' BMI ')"
   ]
  },
  {
   "cell_type": "code",
   "execution_count": 71,
   "metadata": {},
   "outputs": [
    {
     "data": {
      "text/plain": [
       "Text(0, 0.5, 'Alcohol')"
      ]
     },
     "execution_count": 71,
     "metadata": {},
     "output_type": "execute_result"
    },
    {
     "data": {
      "image/png": "[encoded data removed]",
      "text/plain": [
       "<Figure size 432x288 with 1 Axes>"
      ]
     },
     "metadata": {
      "needs_background": "light"
     },
     "output_type": "display_data"
    }
   ],
   "source": [
    "plt.bar(data['Life expectancy '], data ['Alcohol'])\n",
    "plt.xlabel (\"Life Expectancy\")\n",
    "plt.ylabel ('Alcohol')"
   ]
  },
  {
   "cell_type": "markdown",
   "metadata": {},
   "source": [
    "### Analysis of Death rates with respect to LE"
   ]
  },
  {
   "cell_type": "code",
   "execution_count": 69,
   "metadata": {},
   "outputs": [
    {
     "data": {
      "text/plain": [
       "Text(0, 0.5, 'Adult Mortality')"
      ]
     },
     "execution_count": 69,
     "metadata": {},
     "output_type": "execute_result"
    },
    {
     "data": {
      "image/png": "[encoded data removed]",
      "text/plain": [
       "<Figure size 432x288 with 1 Axes>"
      ]
     },
     "metadata": {
      "needs_background": "light"
     },
     "output_type": "display_data"
    }
   ],
   "source": [
    "plt.bar(data['Life expectancy '], data ['Adult Mortality'])\n",
    "plt.xlabel (\"Life Expectancy\")\n",
    "plt.ylabel ('Adult Mortality')"
   ]
  },
  {
   "cell_type": "code",
   "execution_count": 70,
   "metadata": {},
   "outputs": [
    {
     "data": {
      "text/plain": [
       "Text(0, 0.5, 'infant deaths')"
      ]
     },
     "execution_count": 70,
     "metadata": {},
     "output_type": "execute_result"
    },
    {
     "data": {
      "image/png": "[encoded data removed]",
      "text/plain": [
       "<Figure size 432x288 with 1 Axes>"
      ]
     },
     "metadata": {
      "needs_background": "light"
     },
     "output_type": "display_data"
    }
   ],
   "source": [
    "plt.bar(data['Life expectancy '], data ['infant deaths'])\n",
    "plt.xlabel (\"Life Expectancy\")\n",
    "plt.ylabel ('infant deaths')"
   ]
  },
  {
   "cell_type": "markdown",
   "metadata": {},
   "source": [
    "### Analysis of immunization with respect to LE"
   ]
  },
  {
   "cell_type": "code",
   "execution_count": 39,
   "metadata": {},
   "outputs": [
    {
     "data": {
      "text/plain": [
       "Text(0, 0.5, 'Life Expectancy')"
      ]
     },
     "execution_count": 39,
     "metadata": {},
     "output_type": "execute_result"
    },
    {
     "data": {
      "image/png": "[encoded data removed]",
      "text/plain": [
       "<Figure size 432x288 with 1 Axes>"
      ]
     },
     "metadata": {
      "needs_background": "light"
     },
     "output_type": "display_data"
    }
   ],
   "source": [
    "plt.bar(data['Hepatitis B'], data ['Life expectancy '])\n",
    "plt.xlabel ('Hepatitis B')\n",
    "plt.ylabel (\"Life Expectancy\")"
   ]
  },
  {
   "cell_type": "code",
   "execution_count": 52,
   "metadata": {},
   "outputs": [
    {
     "data": {
      "text/plain": [
       "Text(0, 0.5, 'Life Expectancy')"
      ]
     },
     "execution_count": 52,
     "metadata": {},
     "output_type": "execute_result"
    },
    {
     "data": {
      "image/png": "[encoded data removed]",
      "text/plain": [
       "<Figure size 432x288 with 1 Axes>"
      ]
     },
     "metadata": {
      "needs_background": "light"
     },
     "output_type": "display_data"
    }
   ],
   "source": [
    "plt.bar(data['Polio'], data ['Life expectancy '])\n",
    "plt.xlabel ('Polio')\n",
    "plt.ylabel (\"Life Expectancy\")"
   ]
  },
  {
   "cell_type": "code",
   "execution_count": 54,
   "metadata": {},
   "outputs": [
    {
     "data": {
      "text/plain": [
       "Text(0.5, 0, 'Diphtheria ')"
      ]
     },
     "execution_count": 54,
     "metadata": {},
     "output_type": "execute_result"
    },
    {
     "data": {
      "image/png": "[encoded data removed]",
      "text/plain": [
       "<Figure size 432x288 with 1 Axes>"
      ]
     },
     "metadata": {
      "needs_background": "light"
     },
     "output_type": "display_data"
    }
   ],
   "source": [
    "\n",
    "plt.bar(data['Diphtheria '], data ['Life expectancy '])\n",
    "plt.ylabel (\"Life Expectancy\")\n",
    "plt.xlabel ('Diphtheria ')"
   ]
  },
  {
   "cell_type": "markdown",
   "metadata": {},
   "source": [
    "### number of infections of various diseases vs Life expectancy"
   ]
  },
  {
   "cell_type": "code",
   "execution_count": 62,
   "metadata": {},
   "outputs": [
    {
     "data": {
      "text/plain": [
       "Text(0, 0.5, 'Measles ')"
      ]
     },
     "execution_count": 62,
     "metadata": {},
     "output_type": "execute_result"
    },
    {
     "data": {
      "image/png": "[encoded data removed]",
      "text/plain": [
       "<Figure size 432x288 with 1 Axes>"
      ]
     },
     "metadata": {
      "needs_background": "light"
     },
     "output_type": "display_data"
    }
   ],
   "source": [
    "\n",
    "plt.bar(data ['Life expectancy '],data['Measles '])\n",
    "plt.xlabel (\"Life Expectancy\")\n",
    "plt.ylabel ('Measles ')"
   ]
  },
  {
   "cell_type": "code",
   "execution_count": 63,
   "metadata": {},
   "outputs": [
    {
     "data": {
      "text/plain": [
       "Text(0, 0.5, ' HIV/AIDS')"
      ]
     },
     "execution_count": 63,
     "metadata": {},
     "output_type": "execute_result"
    },
    {
     "data": {
      "image/png": "[encoded data removed]",
      "text/plain": [
       "<Figure size 432x288 with 1 Axes>"
      ]
     },
     "metadata": {
      "needs_background": "light"
     },
     "output_type": "display_data"
    }
   ],
   "source": [
    "plt.bar(data ['Life expectancy '],data[' HIV/AIDS'])\n",
    "plt.xlabel (\"Life Expectancy\")\n",
    "plt.ylabel (' HIV/AIDS')"
   ]
  },
  {
   "cell_type": "markdown",
   "metadata": {},
   "source": [
    "## Analysis of Indian specific data"
   ]
  },
  {
   "cell_type": "code",
   "execution_count": 10,
   "metadata": {},
   "outputs": [
    {
     "data": {
      "text/html": [
       "<div>\n",
       "<style scoped>\n",
       "    .dataframe tbody tr th:only-of-type {\n",
       "        vertical-align: middle;\n",
       "    }\n",
       "\n",
       "    .dataframe tbody tr th {\n",
       "        vertical-align: top;\n",
       "    }\n",
       "\n",
       "    .dataframe thead th {\n",
       "        text-align: right;\n",
       "    }\n",
       "</style>\n",
       "<table border=\"1\" class=\"dataframe\">\n",
       "  <thead>\n",
       "    <tr style=\"text-align: right;\">\n",
       "      <th></th>\n",
       "      <th>Country</th>\n",
       "      <th>Year</th>\n",
       "      <th>Life expectancy</th>\n",
       "      <th>Adult Mortality</th>\n",
       "      <th>infant deaths</th>\n",
       "      <th>Alcohol</th>\n",
       "      <th>percentage expenditure</th>\n",
       "      <th>Hepatitis B</th>\n",
       "      <th>Measles</th>\n",
       "      <th>BMI</th>\n",
       "      <th>Polio</th>\n",
       "      <th>Diphtheria</th>\n",
       "      <th>HIV/AIDS</th>\n",
       "      <th>GDP</th>\n",
       "    </tr>\n",
       "  </thead>\n",
       "  <tbody>\n",
       "    <tr>\n",
       "      <th>1186</th>\n",
       "      <td>India</td>\n",
       "      <td>2015</td>\n",
       "      <td>68.3</td>\n",
       "      <td>181.0</td>\n",
       "      <td>36.249</td>\n",
       "      <td>NaN</td>\n",
       "      <td>0.000000</td>\n",
       "      <td>87.0</td>\n",
       "      <td>90387</td>\n",
       "      <td>18.7</td>\n",
       "      <td>86.0</td>\n",
       "      <td>87.0</td>\n",
       "      <td>0.2</td>\n",
       "      <td>1613.188780</td>\n",
       "    </tr>\n",
       "    <tr>\n",
       "      <th>1187</th>\n",
       "      <td>India</td>\n",
       "      <td>2014</td>\n",
       "      <td>68.0</td>\n",
       "      <td>184.0</td>\n",
       "      <td>37.666</td>\n",
       "      <td>3.07</td>\n",
       "      <td>86.521539</td>\n",
       "      <td>79.0</td>\n",
       "      <td>79563</td>\n",
       "      <td>18.1</td>\n",
       "      <td>84.0</td>\n",
       "      <td>85.0</td>\n",
       "      <td>0.2</td>\n",
       "      <td>1573.118890</td>\n",
       "    </tr>\n",
       "    <tr>\n",
       "      <th>1188</th>\n",
       "      <td>India</td>\n",
       "      <td>2013</td>\n",
       "      <td>67.6</td>\n",
       "      <td>187.0</td>\n",
       "      <td>39.082</td>\n",
       "      <td>3.11</td>\n",
       "      <td>67.672304</td>\n",
       "      <td>7.0</td>\n",
       "      <td>13822</td>\n",
       "      <td>17.5</td>\n",
       "      <td>82.0</td>\n",
       "      <td>83.0</td>\n",
       "      <td>0.2</td>\n",
       "      <td>1452.195373</td>\n",
       "    </tr>\n",
       "    <tr>\n",
       "      <th>1189</th>\n",
       "      <td>India</td>\n",
       "      <td>2012</td>\n",
       "      <td>67.3</td>\n",
       "      <td>19.0</td>\n",
       "      <td>41.157</td>\n",
       "      <td>3.10</td>\n",
       "      <td>64.969645</td>\n",
       "      <td>73.0</td>\n",
       "      <td>18668</td>\n",
       "      <td>17.0</td>\n",
       "      <td>79.0</td>\n",
       "      <td>82.0</td>\n",
       "      <td>0.2</td>\n",
       "      <td>1446.985410</td>\n",
       "    </tr>\n",
       "    <tr>\n",
       "      <th>1190</th>\n",
       "      <td>India</td>\n",
       "      <td>2011</td>\n",
       "      <td>66.8</td>\n",
       "      <td>193.0</td>\n",
       "      <td>43.232</td>\n",
       "      <td>3.00</td>\n",
       "      <td>64.605901</td>\n",
       "      <td>44.0</td>\n",
       "      <td>33634</td>\n",
       "      <td>16.4</td>\n",
       "      <td>79.0</td>\n",
       "      <td>82.0</td>\n",
       "      <td>0.2</td>\n",
       "      <td>1461.671957</td>\n",
       "    </tr>\n",
       "  </tbody>\n",
       "</table>\n",
       "</div>"
      ],
      "text/plain": [
       "     Country  Year  Life expectancy   Adult Mortality  infant deaths  Alcohol  \\\n",
       "1186   India  2015              68.3            181.0         36.249      NaN   \n",
       "1187   India  2014              68.0            184.0         37.666     3.07   \n",
       "1188   India  2013              67.6            187.0         39.082     3.11   \n",
       "1189   India  2012              67.3             19.0         41.157     3.10   \n",
       "1190   India  2011              66.8            193.0         43.232     3.00   \n",
       "\n",
       "      percentage expenditure  Hepatitis B  Measles    BMI   Polio  \\\n",
       "1186                0.000000         87.0     90387   18.7   86.0   \n",
       "1187               86.521539         79.0     79563   18.1   84.0   \n",
       "1188               67.672304          7.0     13822   17.5   82.0   \n",
       "1189               64.969645         73.0     18668   17.0   79.0   \n",
       "1190               64.605901         44.0     33634   16.4   79.0   \n",
       "\n",
       "      Diphtheria    HIV/AIDS          GDP  \n",
       "1186         87.0        0.2  1613.188780  \n",
       "1187         85.0        0.2  1573.118890  \n",
       "1188         83.0        0.2  1452.195373  \n",
       "1189         82.0        0.2  1446.985410  \n",
       "1190         82.0        0.2  1461.671957  "
      ]
     },
     "execution_count": 10,
     "metadata": {},
     "output_type": "execute_result"
    }
   ],
   "source": [
    "India_data = raw_data [data['Country']==\"India\"]\n",
    "India_data.head()"
   ]
  },
  {
   "cell_type": "code",
   "execution_count": 11,
   "metadata": {},
   "outputs": [
    {
     "name": "stderr",
     "output_type": "stream",
     "text": [
      "C:\\Users\\dlsat\\AppData\\Local\\Temp\\ipykernel_17440\\2846159205.py:1: SettingWithCopyWarning: \n",
      "A value is trying to be set on a copy of a slice from a DataFrame.\n",
      "Try using .loc[row_indexer,col_indexer] = value instead\n",
      "\n",
      "See the caveats in the documentation: https://pandas.pydata.org/pandas-docs/stable/user_guide/indexing.html#returning-a-view-versus-a-copy\n",
      "  India_data['Hepatitis B'] = India_data['Hepatitis B'].fillna(np.mean(data['Hepatitis B']))\n"
     ]
    },
    {
     "data": {
      "text/html": [
       "<div>\n",
       "<style scoped>\n",
       "    .dataframe tbody tr th:only-of-type {\n",
       "        vertical-align: middle;\n",
       "    }\n",
       "\n",
       "    .dataframe tbody tr th {\n",
       "        vertical-align: top;\n",
       "    }\n",
       "\n",
       "    .dataframe thead th {\n",
       "        text-align: right;\n",
       "    }\n",
       "</style>\n",
       "<table border=\"1\" class=\"dataframe\">\n",
       "  <thead>\n",
       "    <tr style=\"text-align: right;\">\n",
       "      <th></th>\n",
       "      <th>Country</th>\n",
       "      <th>Year</th>\n",
       "      <th>Life expectancy</th>\n",
       "      <th>Adult Mortality</th>\n",
       "      <th>infant deaths</th>\n",
       "      <th>Alcohol</th>\n",
       "      <th>percentage expenditure</th>\n",
       "      <th>Hepatitis B</th>\n",
       "      <th>Measles</th>\n",
       "      <th>BMI</th>\n",
       "      <th>Polio</th>\n",
       "      <th>Diphtheria</th>\n",
       "      <th>HIV/AIDS</th>\n",
       "      <th>GDP</th>\n",
       "    </tr>\n",
       "  </thead>\n",
       "  <tbody>\n",
       "    <tr>\n",
       "      <th>1186</th>\n",
       "      <td>India</td>\n",
       "      <td>2015</td>\n",
       "      <td>68.3</td>\n",
       "      <td>181.0</td>\n",
       "      <td>36.249</td>\n",
       "      <td>NaN</td>\n",
       "      <td>0.000000</td>\n",
       "      <td>87.0</td>\n",
       "      <td>90387</td>\n",
       "      <td>18.7</td>\n",
       "      <td>86.0</td>\n",
       "      <td>87.0</td>\n",
       "      <td>0.2</td>\n",
       "      <td>1613.188780</td>\n",
       "    </tr>\n",
       "    <tr>\n",
       "      <th>1187</th>\n",
       "      <td>India</td>\n",
       "      <td>2014</td>\n",
       "      <td>68.0</td>\n",
       "      <td>184.0</td>\n",
       "      <td>37.666</td>\n",
       "      <td>3.07</td>\n",
       "      <td>86.521539</td>\n",
       "      <td>79.0</td>\n",
       "      <td>79563</td>\n",
       "      <td>18.1</td>\n",
       "      <td>84.0</td>\n",
       "      <td>85.0</td>\n",
       "      <td>0.2</td>\n",
       "      <td>1573.118890</td>\n",
       "    </tr>\n",
       "    <tr>\n",
       "      <th>1188</th>\n",
       "      <td>India</td>\n",
       "      <td>2013</td>\n",
       "      <td>67.6</td>\n",
       "      <td>187.0</td>\n",
       "      <td>39.082</td>\n",
       "      <td>3.11</td>\n",
       "      <td>67.672304</td>\n",
       "      <td>7.0</td>\n",
       "      <td>13822</td>\n",
       "      <td>17.5</td>\n",
       "      <td>82.0</td>\n",
       "      <td>83.0</td>\n",
       "      <td>0.2</td>\n",
       "      <td>1452.195373</td>\n",
       "    </tr>\n",
       "    <tr>\n",
       "      <th>1189</th>\n",
       "      <td>India</td>\n",
       "      <td>2012</td>\n",
       "      <td>67.3</td>\n",
       "      <td>19.0</td>\n",
       "      <td>41.157</td>\n",
       "      <td>3.10</td>\n",
       "      <td>64.969645</td>\n",
       "      <td>73.0</td>\n",
       "      <td>18668</td>\n",
       "      <td>17.0</td>\n",
       "      <td>79.0</td>\n",
       "      <td>82.0</td>\n",
       "      <td>0.2</td>\n",
       "      <td>1446.985410</td>\n",
       "    </tr>\n",
       "    <tr>\n",
       "      <th>1190</th>\n",
       "      <td>India</td>\n",
       "      <td>2011</td>\n",
       "      <td>66.8</td>\n",
       "      <td>193.0</td>\n",
       "      <td>43.232</td>\n",
       "      <td>3.00</td>\n",
       "      <td>64.605901</td>\n",
       "      <td>44.0</td>\n",
       "      <td>33634</td>\n",
       "      <td>16.4</td>\n",
       "      <td>79.0</td>\n",
       "      <td>82.0</td>\n",
       "      <td>0.2</td>\n",
       "      <td>1461.671957</td>\n",
       "    </tr>\n",
       "  </tbody>\n",
       "</table>\n",
       "</div>"
      ],
      "text/plain": [
       "     Country  Year  Life expectancy   Adult Mortality  infant deaths  Alcohol  \\\n",
       "1186   India  2015              68.3            181.0         36.249      NaN   \n",
       "1187   India  2014              68.0            184.0         37.666     3.07   \n",
       "1188   India  2013              67.6            187.0         39.082     3.11   \n",
       "1189   India  2012              67.3             19.0         41.157     3.10   \n",
       "1190   India  2011              66.8            193.0         43.232     3.00   \n",
       "\n",
       "      percentage expenditure  Hepatitis B  Measles    BMI   Polio  \\\n",
       "1186                0.000000         87.0     90387   18.7   86.0   \n",
       "1187               86.521539         79.0     79563   18.1   84.0   \n",
       "1188               67.672304          7.0     13822   17.5   82.0   \n",
       "1189               64.969645         73.0     18668   17.0   79.0   \n",
       "1190               64.605901         44.0     33634   16.4   79.0   \n",
       "\n",
       "      Diphtheria    HIV/AIDS          GDP  \n",
       "1186         87.0        0.2  1613.188780  \n",
       "1187         85.0        0.2  1573.118890  \n",
       "1188         83.0        0.2  1452.195373  \n",
       "1189         82.0        0.2  1446.985410  \n",
       "1190         82.0        0.2  1461.671957  "
      ]
     },
     "execution_count": 11,
     "metadata": {},
     "output_type": "execute_result"
    }
   ],
   "source": [
    "India_data['Hepatitis B'] = India_data['Hepatitis B'].fillna(np.mean(data['Hepatitis B']))\n",
    "India_data.head()"
   ]
  },
  {
   "cell_type": "code",
   "execution_count": 12,
   "metadata": {},
   "outputs": [
    {
     "data": {
      "text/plain": [
       "Text(0, 0.5, 'Life Expectancy')"
      ]
     },
     "execution_count": 12,
     "metadata": {},
     "output_type": "execute_result"
    },
    {
     "data": {
      "image/png": "[encoded data removed]",
      "text/plain": [
       "<Figure size 432x288 with 1 Axes>"
      ]
     },
     "metadata": {
      "needs_background": "light"
     },
     "output_type": "display_data"
    }
   ],
   "source": [
    "\n",
    "plt.plot(India_data['Year'], India_data [ 'Life expectancy '])\n",
    "plt.xlabel(\"year\")\n",
    "plt.ylabel(\"Life Expectancy\")\n"
   ]
  },
  {
   "cell_type": "code",
   "execution_count": 13,
   "metadata": {},
   "outputs": [
    {
     "data": {
      "text/plain": [
       "Text(0, 0.5, 'Infant deaths')"
      ]
     },
     "execution_count": 13,
     "metadata": {},
     "output_type": "execute_result"
    },
    {
     "data": {
      "image/png": "[encoded data removed]",
      "text/plain": [
       "<Figure size 432x288 with 1 Axes>"
      ]
     },
     "metadata": {
      "needs_background": "light"
     },
     "output_type": "display_data"
    }
   ],
   "source": [
    "plt.plot(India_data['Year'], India_data [ 'infant deaths'])\n",
    "plt.xlabel(\"year\")\n",
    "plt.ylabel(\"Infant deaths\")\n"
   ]
  },
  {
   "cell_type": "code",
   "execution_count": 14,
   "metadata": {},
   "outputs": [
    {
     "data": {
      "text/plain": [
       "Text(0, 0.5, 'Life expectancy ')"
      ]
     },
     "execution_count": 14,
     "metadata": {},
     "output_type": "execute_result"
    },
    {
     "data": {
      "image/png": "[encoded data removed]",
      "text/plain": [
       "<Figure size 432x288 with 1 Axes>"
      ]
     },
     "metadata": {
      "needs_background": "light"
     },
     "output_type": "display_data"
    }
   ],
   "source": [
    "plt.scatter(India_data ['Adult Mortality'], India_data [ 'Life expectancy '])\n",
    "plt.xlabel('Adult Mortality')\n",
    "plt.ylabel('Life expectancy ')"
   ]
  },
  {
   "cell_type": "code",
   "execution_count": 15,
   "metadata": {},
   "outputs": [
    {
     "data": {
      "text/plain": [
       "Text(0.5, 1.0, 'Immunization vs year')"
      ]
     },
     "execution_count": 15,
     "metadata": {},
     "output_type": "execute_result"
    },
    {
     "data": {
      "image/png": "[encoded data removed]",
      "text/plain": [
       "<Figure size 432x288 with 1 Axes>"
      ]
     },
     "metadata": {
      "needs_background": "light"
     },
     "output_type": "display_data"
    }
   ],
   "source": [
    "plt.plot(India_data['Year'], India_data ['Hepatitis B'], label= \"Hepatitis B\")\n",
    "plt.plot(India_data['Year'], India_data ['Polio'], label= 'Polio')\n",
    "plt.plot(India_data['Year'], India_data ['Diphtheria '], label= 'Diphtheria ')\n",
    "\n",
    "plt.legend([\"Hepatitis B\", 'Polio', 'Diphtheria '])\n",
    "plt.xlabel(\"year\")\n",
    "plt.ylabel(\"immunization percentage\")\n",
    "plt.title(\"Immunization vs year\")"
   ]
  },
  {
   "cell_type": "code",
   "execution_count": 16,
   "metadata": {},
   "outputs": [
    {
     "data": {
      "text/html": [
       "<div>\n",
       "<style scoped>\n",
       "    .dataframe tbody tr th:only-of-type {\n",
       "        vertical-align: middle;\n",
       "    }\n",
       "\n",
       "    .dataframe tbody tr th {\n",
       "        vertical-align: top;\n",
       "    }\n",
       "\n",
       "    .dataframe thead th {\n",
       "        text-align: right;\n",
       "    }\n",
       "</style>\n",
       "<table border=\"1\" class=\"dataframe\">\n",
       "  <thead>\n",
       "    <tr style=\"text-align: right;\">\n",
       "      <th></th>\n",
       "      <th>Life expectancy</th>\n",
       "      <th>Adult Mortality</th>\n",
       "      <th>infant deaths</th>\n",
       "      <th>Alcohol</th>\n",
       "      <th>percentage expenditure</th>\n",
       "      <th>Hepatitis B</th>\n",
       "      <th>Measles</th>\n",
       "      <th>BMI</th>\n",
       "      <th>Polio</th>\n",
       "      <th>Diphtheria</th>\n",
       "      <th>HIV/AIDS</th>\n",
       "      <th>GDP</th>\n",
       "    </tr>\n",
       "  </thead>\n",
       "  <tbody>\n",
       "    <tr>\n",
       "      <th>count</th>\n",
       "      <td>16.000000</td>\n",
       "      <td>16.000000</td>\n",
       "      <td>16.000000</td>\n",
       "      <td>15.000000</td>\n",
       "      <td>16.000000</td>\n",
       "      <td>16.000000</td>\n",
       "      <td>16.000000</td>\n",
       "      <td>16.00000</td>\n",
       "      <td>16.000000</td>\n",
       "      <td>16.000000</td>\n",
       "      <td>16.000000</td>\n",
       "      <td>16.000000</td>\n",
       "    </tr>\n",
       "    <tr>\n",
       "      <th>mean</th>\n",
       "      <td>65.418750</td>\n",
       "      <td>146.562500</td>\n",
       "      <td>50.732313</td>\n",
       "      <td>1.942000</td>\n",
       "      <td>33.242621</td>\n",
       "      <td>46.485115</td>\n",
       "      <td>46454.187500</td>\n",
       "      <td>14.79375</td>\n",
       "      <td>69.625000</td>\n",
       "      <td>67.062500</td>\n",
       "      <td>0.256250</td>\n",
       "      <td>837.920051</td>\n",
       "    </tr>\n",
       "    <tr>\n",
       "      <th>std</th>\n",
       "      <td>1.866626</td>\n",
       "      <td>89.558151</td>\n",
       "      <td>9.842314</td>\n",
       "      <td>0.875591</td>\n",
       "      <td>27.563501</td>\n",
       "      <td>33.248136</td>\n",
       "      <td>19997.209129</td>\n",
       "      <td>2.31559</td>\n",
       "      <td>10.397916</td>\n",
       "      <td>19.150174</td>\n",
       "      <td>0.051235</td>\n",
       "      <td>572.332928</td>\n",
       "    </tr>\n",
       "    <tr>\n",
       "      <th>min</th>\n",
       "      <td>62.500000</td>\n",
       "      <td>2.000000</td>\n",
       "      <td>36.249000</td>\n",
       "      <td>0.930000</td>\n",
       "      <td>0.000000</td>\n",
       "      <td>6.000000</td>\n",
       "      <td>13822.000000</td>\n",
       "      <td>11.40000</td>\n",
       "      <td>57.000000</td>\n",
       "      <td>7.000000</td>\n",
       "      <td>0.200000</td>\n",
       "      <td>19.317765</td>\n",
       "    </tr>\n",
       "    <tr>\n",
       "      <th>25%</th>\n",
       "      <td>63.925000</td>\n",
       "      <td>27.500000</td>\n",
       "      <td>42.713250</td>\n",
       "      <td>1.195000</td>\n",
       "      <td>14.667735</td>\n",
       "      <td>7.750000</td>\n",
       "      <td>35941.750000</td>\n",
       "      <td>12.90000</td>\n",
       "      <td>58.000000</td>\n",
       "      <td>60.500000</td>\n",
       "      <td>0.200000</td>\n",
       "      <td>445.070383</td>\n",
       "    </tr>\n",
       "    <tr>\n",
       "      <th>50%</th>\n",
       "      <td>65.350000</td>\n",
       "      <td>190.000000</td>\n",
       "      <td>50.506500</td>\n",
       "      <td>1.590000</td>\n",
       "      <td>23.409438</td>\n",
       "      <td>41.000000</td>\n",
       "      <td>42701.000000</td>\n",
       "      <td>14.65000</td>\n",
       "      <td>68.000000</td>\n",
       "      <td>65.000000</td>\n",
       "      <td>0.300000</td>\n",
       "      <td>706.789037</td>\n",
       "    </tr>\n",
       "    <tr>\n",
       "      <th>75%</th>\n",
       "      <td>66.925000</td>\n",
       "      <td>214.500000</td>\n",
       "      <td>58.378750</td>\n",
       "      <td>2.885000</td>\n",
       "      <td>59.451674</td>\n",
       "      <td>80.940461</td>\n",
       "      <td>55629.250000</td>\n",
       "      <td>16.55000</td>\n",
       "      <td>79.000000</td>\n",
       "      <td>82.000000</td>\n",
       "      <td>0.300000</td>\n",
       "      <td>1448.287901</td>\n",
       "    </tr>\n",
       "    <tr>\n",
       "      <th>max</th>\n",
       "      <td>68.300000</td>\n",
       "      <td>224.000000</td>\n",
       "      <td>66.729000</td>\n",
       "      <td>3.110000</td>\n",
       "      <td>86.521539</td>\n",
       "      <td>87.000000</td>\n",
       "      <td>90387.000000</td>\n",
       "      <td>18.70000</td>\n",
       "      <td>86.000000</td>\n",
       "      <td>87.000000</td>\n",
       "      <td>0.300000</td>\n",
       "      <td>1613.188780</td>\n",
       "    </tr>\n",
       "  </tbody>\n",
       "</table>\n",
       "</div>"
      ],
      "text/plain": [
       "       Life expectancy   Adult Mortality  infant deaths    Alcohol  \\\n",
       "count         16.000000        16.000000      16.000000  15.000000   \n",
       "mean          65.418750       146.562500      50.732313   1.942000   \n",
       "std            1.866626        89.558151       9.842314   0.875591   \n",
       "min           62.500000         2.000000      36.249000   0.930000   \n",
       "25%           63.925000        27.500000      42.713250   1.195000   \n",
       "50%           65.350000       190.000000      50.506500   1.590000   \n",
       "75%           66.925000       214.500000      58.378750   2.885000   \n",
       "max           68.300000       224.000000      66.729000   3.110000   \n",
       "\n",
       "       percentage expenditure  Hepatitis B      Measles       BMI       Polio  \\\n",
       "count               16.000000    16.000000     16.000000  16.00000  16.000000   \n",
       "mean                33.242621    46.485115  46454.187500  14.79375  69.625000   \n",
       "std                 27.563501    33.248136  19997.209129   2.31559  10.397916   \n",
       "min                  0.000000     6.000000  13822.000000  11.40000  57.000000   \n",
       "25%                 14.667735     7.750000  35941.750000  12.90000  58.000000   \n",
       "50%                 23.409438    41.000000  42701.000000  14.65000  68.000000   \n",
       "75%                 59.451674    80.940461  55629.250000  16.55000  79.000000   \n",
       "max                 86.521539    87.000000  90387.000000  18.70000  86.000000   \n",
       "\n",
       "       Diphtheria    HIV/AIDS          GDP  \n",
       "count    16.000000  16.000000    16.000000  \n",
       "mean     67.062500   0.256250   837.920051  \n",
       "std      19.150174   0.051235   572.332928  \n",
       "min       7.000000   0.200000    19.317765  \n",
       "25%      60.500000   0.200000   445.070383  \n",
       "50%      65.000000   0.300000   706.789037  \n",
       "75%      82.000000   0.300000  1448.287901  \n",
       "max      87.000000   0.300000  1613.188780  "
      ]
     },
     "execution_count": 16,
     "metadata": {},
     "output_type": "execute_result"
    }
   ],
   "source": [
    "#'Hepatitis B','Measles ', ' BMI ', 'Polio', 'Diphtheria '\n",
    "India_data.drop(['Country', 'Year'], axis= \"columns\").describe()"
   ]
  },
  {
   "cell_type": "markdown",
   "metadata": {},
   "source": [
    "## Analysis of Afghanistan specific data"
   ]
  },
  {
   "cell_type": "code",
   "execution_count": 17,
   "metadata": {},
   "outputs": [
    {
     "data": {
      "text/html": [
       "<div>\n",
       "<style scoped>\n",
       "    .dataframe tbody tr th:only-of-type {\n",
       "        vertical-align: middle;\n",
       "    }\n",
       "\n",
       "    .dataframe tbody tr th {\n",
       "        vertical-align: top;\n",
       "    }\n",
       "\n",
       "    .dataframe thead th {\n",
       "        text-align: right;\n",
       "    }\n",
       "</style>\n",
       "<table border=\"1\" class=\"dataframe\">\n",
       "  <thead>\n",
       "    <tr style=\"text-align: right;\">\n",
       "      <th></th>\n",
       "      <th>Country</th>\n",
       "      <th>Year</th>\n",
       "      <th>Life expectancy</th>\n",
       "      <th>Adult Mortality</th>\n",
       "      <th>infant deaths</th>\n",
       "      <th>Alcohol</th>\n",
       "      <th>percentage expenditure</th>\n",
       "      <th>Hepatitis B</th>\n",
       "      <th>Measles</th>\n",
       "      <th>BMI</th>\n",
       "      <th>Polio</th>\n",
       "      <th>Diphtheria</th>\n",
       "      <th>HIV/AIDS</th>\n",
       "      <th>GDP</th>\n",
       "    </tr>\n",
       "  </thead>\n",
       "  <tbody>\n",
       "    <tr>\n",
       "      <th>0</th>\n",
       "      <td>Afghanistan</td>\n",
       "      <td>2015</td>\n",
       "      <td>65.0</td>\n",
       "      <td>263.0</td>\n",
       "      <td>62.0</td>\n",
       "      <td>0.01</td>\n",
       "      <td>71.279624</td>\n",
       "      <td>65.0</td>\n",
       "      <td>1154</td>\n",
       "      <td>19.1</td>\n",
       "      <td>6.0</td>\n",
       "      <td>65.0</td>\n",
       "      <td>0.1</td>\n",
       "      <td>584.259210</td>\n",
       "    </tr>\n",
       "    <tr>\n",
       "      <th>1</th>\n",
       "      <td>Afghanistan</td>\n",
       "      <td>2014</td>\n",
       "      <td>59.9</td>\n",
       "      <td>271.0</td>\n",
       "      <td>64.0</td>\n",
       "      <td>0.01</td>\n",
       "      <td>73.523582</td>\n",
       "      <td>62.0</td>\n",
       "      <td>492</td>\n",
       "      <td>18.6</td>\n",
       "      <td>58.0</td>\n",
       "      <td>62.0</td>\n",
       "      <td>0.1</td>\n",
       "      <td>612.696514</td>\n",
       "    </tr>\n",
       "    <tr>\n",
       "      <th>2</th>\n",
       "      <td>Afghanistan</td>\n",
       "      <td>2013</td>\n",
       "      <td>59.9</td>\n",
       "      <td>268.0</td>\n",
       "      <td>66.0</td>\n",
       "      <td>0.01</td>\n",
       "      <td>73.219243</td>\n",
       "      <td>64.0</td>\n",
       "      <td>430</td>\n",
       "      <td>18.1</td>\n",
       "      <td>62.0</td>\n",
       "      <td>64.0</td>\n",
       "      <td>0.1</td>\n",
       "      <td>631.744976</td>\n",
       "    </tr>\n",
       "    <tr>\n",
       "      <th>3</th>\n",
       "      <td>Afghanistan</td>\n",
       "      <td>2012</td>\n",
       "      <td>59.5</td>\n",
       "      <td>272.0</td>\n",
       "      <td>69.0</td>\n",
       "      <td>0.01</td>\n",
       "      <td>78.184215</td>\n",
       "      <td>67.0</td>\n",
       "      <td>2787</td>\n",
       "      <td>17.6</td>\n",
       "      <td>67.0</td>\n",
       "      <td>67.0</td>\n",
       "      <td>0.1</td>\n",
       "      <td>669.959000</td>\n",
       "    </tr>\n",
       "    <tr>\n",
       "      <th>4</th>\n",
       "      <td>Afghanistan</td>\n",
       "      <td>2011</td>\n",
       "      <td>59.2</td>\n",
       "      <td>275.0</td>\n",
       "      <td>71.0</td>\n",
       "      <td>0.01</td>\n",
       "      <td>7.097109</td>\n",
       "      <td>68.0</td>\n",
       "      <td>3013</td>\n",
       "      <td>17.2</td>\n",
       "      <td>68.0</td>\n",
       "      <td>68.0</td>\n",
       "      <td>0.1</td>\n",
       "      <td>63.537231</td>\n",
       "    </tr>\n",
       "  </tbody>\n",
       "</table>\n",
       "</div>"
      ],
      "text/plain": [
       "       Country  Year  Life expectancy   Adult Mortality  infant deaths  \\\n",
       "0  Afghanistan  2015              65.0            263.0           62.0   \n",
       "1  Afghanistan  2014              59.9            271.0           64.0   \n",
       "2  Afghanistan  2013              59.9            268.0           66.0   \n",
       "3  Afghanistan  2012              59.5            272.0           69.0   \n",
       "4  Afghanistan  2011              59.2            275.0           71.0   \n",
       "\n",
       "   Alcohol  percentage expenditure  Hepatitis B  Measles    BMI   Polio  \\\n",
       "0     0.01               71.279624         65.0      1154   19.1    6.0   \n",
       "1     0.01               73.523582         62.0       492   18.6   58.0   \n",
       "2     0.01               73.219243         64.0       430   18.1   62.0   \n",
       "3     0.01               78.184215         67.0      2787   17.6   67.0   \n",
       "4     0.01                7.097109         68.0      3013   17.2   68.0   \n",
       "\n",
       "   Diphtheria    HIV/AIDS         GDP  \n",
       "0         65.0        0.1  584.259210  \n",
       "1         62.0        0.1  612.696514  \n",
       "2         64.0        0.1  631.744976  \n",
       "3         67.0        0.1  669.959000  \n",
       "4         68.0        0.1   63.537231  "
      ]
     },
     "execution_count": 17,
     "metadata": {},
     "output_type": "execute_result"
    }
   ],
   "source": [
    "Afghan_data = raw_data[data['Country']==\"Afghanistan\"]\n",
    "Afghan_data.head()"
   ]
  },
  {
   "cell_type": "code",
   "execution_count": 18,
   "metadata": {},
   "outputs": [
    {
     "name": "stderr",
     "output_type": "stream",
     "text": [
      "C:\\Users\\dlsat\\AppData\\Local\\Temp\\ipykernel_17440\\297489237.py:1: SettingWithCopyWarning: \n",
      "A value is trying to be set on a copy of a slice from a DataFrame.\n",
      "Try using .loc[row_indexer,col_indexer] = value instead\n",
      "\n",
      "See the caveats in the documentation: https://pandas.pydata.org/pandas-docs/stable/user_guide/indexing.html#returning-a-view-versus-a-copy\n",
      "  Afghan_data['Hepatitis B'] = Afghan_data['Hepatitis B'].fillna(np.mean(data['Hepatitis B']))\n"
     ]
    },
    {
     "data": {
      "text/html": [
       "<div>\n",
       "<style scoped>\n",
       "    .dataframe tbody tr th:only-of-type {\n",
       "        vertical-align: middle;\n",
       "    }\n",
       "\n",
       "    .dataframe tbody tr th {\n",
       "        vertical-align: top;\n",
       "    }\n",
       "\n",
       "    .dataframe thead th {\n",
       "        text-align: right;\n",
       "    }\n",
       "</style>\n",
       "<table border=\"1\" class=\"dataframe\">\n",
       "  <thead>\n",
       "    <tr style=\"text-align: right;\">\n",
       "      <th></th>\n",
       "      <th>Country</th>\n",
       "      <th>Year</th>\n",
       "      <th>Life expectancy</th>\n",
       "      <th>Adult Mortality</th>\n",
       "      <th>infant deaths</th>\n",
       "      <th>Alcohol</th>\n",
       "      <th>percentage expenditure</th>\n",
       "      <th>Hepatitis B</th>\n",
       "      <th>Measles</th>\n",
       "      <th>BMI</th>\n",
       "      <th>Polio</th>\n",
       "      <th>Diphtheria</th>\n",
       "      <th>HIV/AIDS</th>\n",
       "      <th>GDP</th>\n",
       "    </tr>\n",
       "  </thead>\n",
       "  <tbody>\n",
       "    <tr>\n",
       "      <th>0</th>\n",
       "      <td>Afghanistan</td>\n",
       "      <td>2015</td>\n",
       "      <td>65.0</td>\n",
       "      <td>263.0</td>\n",
       "      <td>62.0</td>\n",
       "      <td>0.01</td>\n",
       "      <td>71.279624</td>\n",
       "      <td>65.0</td>\n",
       "      <td>1154</td>\n",
       "      <td>19.1</td>\n",
       "      <td>6.0</td>\n",
       "      <td>65.0</td>\n",
       "      <td>0.1</td>\n",
       "      <td>584.259210</td>\n",
       "    </tr>\n",
       "    <tr>\n",
       "      <th>1</th>\n",
       "      <td>Afghanistan</td>\n",
       "      <td>2014</td>\n",
       "      <td>59.9</td>\n",
       "      <td>271.0</td>\n",
       "      <td>64.0</td>\n",
       "      <td>0.01</td>\n",
       "      <td>73.523582</td>\n",
       "      <td>62.0</td>\n",
       "      <td>492</td>\n",
       "      <td>18.6</td>\n",
       "      <td>58.0</td>\n",
       "      <td>62.0</td>\n",
       "      <td>0.1</td>\n",
       "      <td>612.696514</td>\n",
       "    </tr>\n",
       "    <tr>\n",
       "      <th>2</th>\n",
       "      <td>Afghanistan</td>\n",
       "      <td>2013</td>\n",
       "      <td>59.9</td>\n",
       "      <td>268.0</td>\n",
       "      <td>66.0</td>\n",
       "      <td>0.01</td>\n",
       "      <td>73.219243</td>\n",
       "      <td>64.0</td>\n",
       "      <td>430</td>\n",
       "      <td>18.1</td>\n",
       "      <td>62.0</td>\n",
       "      <td>64.0</td>\n",
       "      <td>0.1</td>\n",
       "      <td>631.744976</td>\n",
       "    </tr>\n",
       "    <tr>\n",
       "      <th>3</th>\n",
       "      <td>Afghanistan</td>\n",
       "      <td>2012</td>\n",
       "      <td>59.5</td>\n",
       "      <td>272.0</td>\n",
       "      <td>69.0</td>\n",
       "      <td>0.01</td>\n",
       "      <td>78.184215</td>\n",
       "      <td>67.0</td>\n",
       "      <td>2787</td>\n",
       "      <td>17.6</td>\n",
       "      <td>67.0</td>\n",
       "      <td>67.0</td>\n",
       "      <td>0.1</td>\n",
       "      <td>669.959000</td>\n",
       "    </tr>\n",
       "    <tr>\n",
       "      <th>4</th>\n",
       "      <td>Afghanistan</td>\n",
       "      <td>2011</td>\n",
       "      <td>59.2</td>\n",
       "      <td>275.0</td>\n",
       "      <td>71.0</td>\n",
       "      <td>0.01</td>\n",
       "      <td>7.097109</td>\n",
       "      <td>68.0</td>\n",
       "      <td>3013</td>\n",
       "      <td>17.2</td>\n",
       "      <td>68.0</td>\n",
       "      <td>68.0</td>\n",
       "      <td>0.1</td>\n",
       "      <td>63.537231</td>\n",
       "    </tr>\n",
       "  </tbody>\n",
       "</table>\n",
       "</div>"
      ],
      "text/plain": [
       "       Country  Year  Life expectancy   Adult Mortality  infant deaths  \\\n",
       "0  Afghanistan  2015              65.0            263.0           62.0   \n",
       "1  Afghanistan  2014              59.9            271.0           64.0   \n",
       "2  Afghanistan  2013              59.9            268.0           66.0   \n",
       "3  Afghanistan  2012              59.5            272.0           69.0   \n",
       "4  Afghanistan  2011              59.2            275.0           71.0   \n",
       "\n",
       "   Alcohol  percentage expenditure  Hepatitis B  Measles    BMI   Polio  \\\n",
       "0     0.01               71.279624         65.0      1154   19.1    6.0   \n",
       "1     0.01               73.523582         62.0       492   18.6   58.0   \n",
       "2     0.01               73.219243         64.0       430   18.1   62.0   \n",
       "3     0.01               78.184215         67.0      2787   17.6   67.0   \n",
       "4     0.01                7.097109         68.0      3013   17.2   68.0   \n",
       "\n",
       "   Diphtheria    HIV/AIDS         GDP  \n",
       "0         65.0        0.1  584.259210  \n",
       "1         62.0        0.1  612.696514  \n",
       "2         64.0        0.1  631.744976  \n",
       "3         67.0        0.1  669.959000  \n",
       "4         68.0        0.1   63.537231  "
      ]
     },
     "execution_count": 18,
     "metadata": {},
     "output_type": "execute_result"
    }
   ],
   "source": [
    "Afghan_data['Hepatitis B'] = Afghan_data['Hepatitis B'].fillna(np.mean(data['Hepatitis B']))\n",
    "Afghan_data.head()"
   ]
  },
  {
   "cell_type": "code",
   "execution_count": 19,
   "metadata": {},
   "outputs": [
    {
     "data": {
      "text/plain": [
       "Text(0, 0.5, 'Life Expectancy')"
      ]
     },
     "execution_count": 19,
     "metadata": {},
     "output_type": "execute_result"
    },
    {
     "data": {
      "image/png": "[encoded data removed]",
      "text/plain": [
       "<Figure size 432x288 with 1 Axes>"
      ]
     },
     "metadata": {
      "needs_background": "light"
     },
     "output_type": "display_data"
    }
   ],
   "source": [
    "plt.plot(Afghan_data['Year'], Afghan_data [ 'Life expectancy '])\n",
    "plt.xlabel(\"year\")\n",
    "plt.ylabel(\"Life Expectancy\")"
   ]
  },
  {
   "cell_type": "code",
   "execution_count": 20,
   "metadata": {},
   "outputs": [
    {
     "data": {
      "text/plain": [
       "Text(0, 0.5, 'Infant deaths')"
      ]
     },
     "execution_count": 20,
     "metadata": {},
     "output_type": "execute_result"
    },
    {
     "data": {
      "image/png": "[encoded data removed]",
      "text/plain": [
       "<Figure size 432x288 with 1 Axes>"
      ]
     },
     "metadata": {
      "needs_background": "light"
     },
     "output_type": "display_data"
    }
   ],
   "source": [
    "plt.plot(Afghan_data['Year'], Afghan_data [ 'infant deaths'])\n",
    "plt.xlabel(\"year\")\n",
    "plt.ylabel(\"Infant deaths\")"
   ]
  },
  {
   "cell_type": "code",
   "execution_count": 21,
   "metadata": {},
   "outputs": [
    {
     "data": {
      "text/plain": [
       "Text(0, 0.5, 'Life expectancy ')"
      ]
     },
     "execution_count": 21,
     "metadata": {},
     "output_type": "execute_result"
    },
    {
     "data": {
      "image/png": "[encoded data removed]",
      "text/plain": [
       "<Figure size 432x288 with 1 Axes>"
      ]
     },
     "metadata": {
      "needs_background": "light"
     },
     "output_type": "display_data"
    }
   ],
   "source": [
    "plt.scatter(Afghan_data ['Adult Mortality'], Afghan_data [ 'Life expectancy '])\n",
    "plt.xlabel('Adult Mortality')\n",
    "plt.ylabel('Life expectancy ')"
   ]
  },
  {
   "cell_type": "code",
   "execution_count": 22,
   "metadata": {},
   "outputs": [
    {
     "data": {
      "text/plain": [
       "Text(0.5, 1.0, 'Immunization vs year')"
      ]
     },
     "execution_count": 22,
     "metadata": {},
     "output_type": "execute_result"
    },
    {
     "data": {
      "image/png": "[encoded data removed]",
      "text/plain": [
       "<Figure size 432x288 with 1 Axes>"
      ]
     },
     "metadata": {
      "needs_background": "light"
     },
     "output_type": "display_data"
    }
   ],
   "source": [
    "plt.plot(Afghan_data['Year'], Afghan_data ['Hepatitis B'], label= \"Hepatitis B\")\n",
    "plt.plot(Afghan_data['Year'], Afghan_data ['Polio'], label= 'Polio')\n",
    "plt.plot(Afghan_data['Year'], Afghan_data ['Diphtheria '], label= 'Diphtheria ')\n",
    "\n",
    "plt.legend([\"Hepatitis B\", 'Polio', 'Diphtheria '])\n",
    "plt.xlabel(\"year\")\n",
    "plt.ylabel(\"immunization percentage\")\n",
    "plt.title(\"Immunization vs year\")"
   ]
  },
  {
   "cell_type": "markdown",
   "metadata": {},
   "source": [
    "## Analysis of United States of America specific data"
   ]
  },
  {
   "cell_type": "code",
   "execution_count": 23,
   "metadata": {},
   "outputs": [
    {
     "data": {
      "text/html": [
       "<div>\n",
       "<style scoped>\n",
       "    .dataframe tbody tr th:only-of-type {\n",
       "        vertical-align: middle;\n",
       "    }\n",
       "\n",
       "    .dataframe tbody tr th {\n",
       "        vertical-align: top;\n",
       "    }\n",
       "\n",
       "    .dataframe thead th {\n",
       "        text-align: right;\n",
       "    }\n",
       "</style>\n",
       "<table border=\"1\" class=\"dataframe\">\n",
       "  <thead>\n",
       "    <tr style=\"text-align: right;\">\n",
       "      <th></th>\n",
       "      <th>Country</th>\n",
       "      <th>Year</th>\n",
       "      <th>Life expectancy</th>\n",
       "      <th>Adult Mortality</th>\n",
       "      <th>infant deaths</th>\n",
       "      <th>Alcohol</th>\n",
       "      <th>percentage expenditure</th>\n",
       "      <th>Hepatitis B</th>\n",
       "      <th>Measles</th>\n",
       "      <th>BMI</th>\n",
       "      <th>Polio</th>\n",
       "      <th>Diphtheria</th>\n",
       "      <th>HIV/AIDS</th>\n",
       "      <th>GDP</th>\n",
       "    </tr>\n",
       "  </thead>\n",
       "  <tbody>\n",
       "    <tr>\n",
       "      <th>2794</th>\n",
       "      <td>United States of America</td>\n",
       "      <td>2015</td>\n",
       "      <td>79.3</td>\n",
       "      <td>13.0</td>\n",
       "      <td>23.0</td>\n",
       "      <td>NaN</td>\n",
       "      <td>0.0</td>\n",
       "      <td>92.0</td>\n",
       "      <td>188</td>\n",
       "      <td>69.6</td>\n",
       "      <td>93.0</td>\n",
       "      <td>95.0</td>\n",
       "      <td>0.1</td>\n",
       "      <td>NaN</td>\n",
       "    </tr>\n",
       "    <tr>\n",
       "      <th>2795</th>\n",
       "      <td>United States of America</td>\n",
       "      <td>2014</td>\n",
       "      <td>79.1</td>\n",
       "      <td>14.0</td>\n",
       "      <td>23.0</td>\n",
       "      <td>8.82</td>\n",
       "      <td>0.0</td>\n",
       "      <td>92.0</td>\n",
       "      <td>667</td>\n",
       "      <td>69.1</td>\n",
       "      <td>93.0</td>\n",
       "      <td>95.0</td>\n",
       "      <td>0.1</td>\n",
       "      <td>NaN</td>\n",
       "    </tr>\n",
       "    <tr>\n",
       "      <th>2796</th>\n",
       "      <td>United States of America</td>\n",
       "      <td>2013</td>\n",
       "      <td>78.9</td>\n",
       "      <td>16.0</td>\n",
       "      <td>23.0</td>\n",
       "      <td>8.82</td>\n",
       "      <td>0.0</td>\n",
       "      <td>91.0</td>\n",
       "      <td>187</td>\n",
       "      <td>68.6</td>\n",
       "      <td>93.0</td>\n",
       "      <td>94.0</td>\n",
       "      <td>0.1</td>\n",
       "      <td>NaN</td>\n",
       "    </tr>\n",
       "    <tr>\n",
       "      <th>2797</th>\n",
       "      <td>United States of America</td>\n",
       "      <td>2012</td>\n",
       "      <td>78.8</td>\n",
       "      <td>16.0</td>\n",
       "      <td>24.0</td>\n",
       "      <td>8.82</td>\n",
       "      <td>0.0</td>\n",
       "      <td>9.0</td>\n",
       "      <td>55</td>\n",
       "      <td>68.0</td>\n",
       "      <td>93.0</td>\n",
       "      <td>94.0</td>\n",
       "      <td>0.1</td>\n",
       "      <td>NaN</td>\n",
       "    </tr>\n",
       "    <tr>\n",
       "      <th>2798</th>\n",
       "      <td>United States of America</td>\n",
       "      <td>2011</td>\n",
       "      <td>78.7</td>\n",
       "      <td>16.0</td>\n",
       "      <td>25.0</td>\n",
       "      <td>8.67</td>\n",
       "      <td>0.0</td>\n",
       "      <td>91.0</td>\n",
       "      <td>220</td>\n",
       "      <td>67.5</td>\n",
       "      <td>94.0</td>\n",
       "      <td>96.0</td>\n",
       "      <td>0.1</td>\n",
       "      <td>NaN</td>\n",
       "    </tr>\n",
       "  </tbody>\n",
       "</table>\n",
       "</div>"
      ],
      "text/plain": [
       "                       Country  Year  Life expectancy   Adult Mortality  \\\n",
       "2794  United States of America  2015              79.3             13.0   \n",
       "2795  United States of America  2014              79.1             14.0   \n",
       "2796  United States of America  2013              78.9             16.0   \n",
       "2797  United States of America  2012              78.8             16.0   \n",
       "2798  United States of America  2011              78.7             16.0   \n",
       "\n",
       "      infant deaths  Alcohol  percentage expenditure  Hepatitis B  Measles   \\\n",
       "2794           23.0      NaN                     0.0         92.0       188   \n",
       "2795           23.0     8.82                     0.0         92.0       667   \n",
       "2796           23.0     8.82                     0.0         91.0       187   \n",
       "2797           24.0     8.82                     0.0          9.0        55   \n",
       "2798           25.0     8.67                     0.0         91.0       220   \n",
       "\n",
       "       BMI   Polio  Diphtheria    HIV/AIDS  GDP  \n",
       "2794   69.6   93.0         95.0        0.1  NaN  \n",
       "2795   69.1   93.0         95.0        0.1  NaN  \n",
       "2796   68.6   93.0         94.0        0.1  NaN  \n",
       "2797   68.0   93.0         94.0        0.1  NaN  \n",
       "2798   67.5   94.0         96.0        0.1  NaN  "
      ]
     },
     "execution_count": 23,
     "metadata": {},
     "output_type": "execute_result"
    }
   ],
   "source": [
    "USA_data = raw_data[data['Country']==\"United States of America\"]\n",
    "USA_data.head()"
   ]
  },
  {
   "cell_type": "code",
   "execution_count": 24,
   "metadata": {},
   "outputs": [
    {
     "data": {
      "text/plain": [
       "Country                    0\n",
       "Year                       0\n",
       "Life expectancy            0\n",
       "Adult Mortality            0\n",
       "infant deaths              0\n",
       "Alcohol                    1\n",
       "percentage expenditure     0\n",
       "Hepatitis B                0\n",
       "Measles                    0\n",
       " BMI                       0\n",
       "Polio                      0\n",
       "Diphtheria                 0\n",
       " HIV/AIDS                  0\n",
       "GDP                       16\n",
       "dtype: int64"
      ]
     },
     "execution_count": 24,
     "metadata": {},
     "output_type": "execute_result"
    }
   ],
   "source": [
    "pd.isna(USA_data).sum()"
   ]
  },
  {
   "cell_type": "code",
   "execution_count": 25,
   "metadata": {},
   "outputs": [],
   "source": [
    "USA_data = USA_data.drop(['GDP','percentage expenditure'], axis= \"columns\")"
   ]
  },
  {
   "cell_type": "code",
   "execution_count": 26,
   "metadata": {},
   "outputs": [],
   "source": [
    "USA_data[\"Alcohol\"] =  USA_data[\"Alcohol\"].fillna(np.mean(USA_data[\"Alcohol\"]))"
   ]
  },
  {
   "cell_type": "code",
   "execution_count": 27,
   "metadata": {},
   "outputs": [
    {
     "data": {
      "text/plain": [
       "Country             0\n",
       "Year                0\n",
       "Life expectancy     0\n",
       "Adult Mortality     0\n",
       "infant deaths       0\n",
       "Alcohol             0\n",
       "Hepatitis B         0\n",
       "Measles             0\n",
       " BMI                0\n",
       "Polio               0\n",
       "Diphtheria          0\n",
       " HIV/AIDS           0\n",
       "dtype: int64"
      ]
     },
     "execution_count": 27,
     "metadata": {},
     "output_type": "execute_result"
    }
   ],
   "source": [
    "pd.isna(USA_data).sum()"
   ]
  },
  {
   "cell_type": "code",
   "execution_count": 28,
   "metadata": {},
   "outputs": [
    {
     "data": {
      "text/plain": [
       "Text(0, 0.5, 'Life Expectancy')"
      ]
     },
     "execution_count": 28,
     "metadata": {},
     "output_type": "execute_result"
    },
    {
     "data": {
      "image/png": "[encoded data removed]",
      "text/plain": [
       "<Figure size 432x288 with 1 Axes>"
      ]
     },
     "metadata": {
      "needs_background": "light"
     },
     "output_type": "display_data"
    }
   ],
   "source": [
    "plt.plot(USA_data['Year'], USA_data [ 'Life expectancy '])\n",
    "plt.xlabel(\"year\")\n",
    "plt.ylabel(\"Life Expectancy\")"
   ]
  },
  {
   "cell_type": "code",
   "execution_count": 29,
   "metadata": {},
   "outputs": [
    {
     "data": {
      "text/plain": [
       "Text(0, 0.5, 'Infant deaths')"
      ]
     },
     "execution_count": 29,
     "metadata": {},
     "output_type": "execute_result"
    },
    {
     "data": {
      "image/png": "[encoded data removed]",
      "text/plain": [
       "<Figure size 432x288 with 1 Axes>"
      ]
     },
     "metadata": {
      "needs_background": "light"
     },
     "output_type": "display_data"
    }
   ],
   "source": [
    "plt.plot(USA_data['Year'], USA_data [ 'infant deaths'])\n",
    "plt.xlabel(\"year\")\n",
    "plt.ylabel(\"Infant deaths\")"
   ]
  },
  {
   "cell_type": "code",
   "execution_count": 30,
   "metadata": {},
   "outputs": [
    {
     "data": {
      "text/plain": [
       "Text(0, 0.5, 'Life expectancy ')"
      ]
     },
     "execution_count": 30,
     "metadata": {},
     "output_type": "execute_result"
    },
    {
     "data": {
      "image/png": "[encoded data removed]",
      "text/plain": [
       "<Figure size 432x288 with 1 Axes>"
      ]
     },
     "metadata": {
      "needs_background": "light"
     },
     "output_type": "display_data"
    }
   ],
   "source": [
    "plt.scatter(USA_data ['Adult Mortality'], USA_data [ 'Life expectancy '])\n",
    "plt.xlabel('Adult Mortality')\n",
    "plt.ylabel('Life expectancy ')"
   ]
  },
  {
   "cell_type": "code",
   "execution_count": 31,
   "metadata": {},
   "outputs": [
    {
     "data": {
      "text/plain": [
       "Text(0.5, 1.0, 'Immunization vs year')"
      ]
     },
     "execution_count": 31,
     "metadata": {},
     "output_type": "execute_result"
    },
    {
     "data": {
      "image/png": "[encoded data removed]",
      "text/plain": [
       "<Figure size 432x288 with 1 Axes>"
      ]
     },
     "metadata": {
      "needs_background": "light"
     },
     "output_type": "display_data"
    }
   ],
   "source": [
    "plt.plot(USA_data['Year'], USA_data ['Hepatitis B'], label= \"Hepatitis B\")\n",
    "plt.plot(USA_data['Year'], USA_data ['Polio'], label= 'Polio')\n",
    "plt.plot(USA_data['Year'], USA_data ['Diphtheria '], label= 'Diphtheria ')\n",
    "\n",
    "plt.legend([\"Hepatitis B\", 'Polio', 'Diphtheria '])\n",
    "plt.xlabel(\"year\")\n",
    "plt.ylabel(\"immunization percentage\")\n",
    "plt.title(\"Immunization vs year\")"
   ]
  }
 ],
 "metadata": {
  "kernelspec": {
   "display_name": "Python 3.10.4",
   "language": "python",
   "name": "python3"
  },
  "language_info": {
   "codemirror_mode": {
    "name": "ipython",
    "version": 3
   },
   "file_extension": ".py",
   "mimetype": "text/x-python",
   "name": "python",
   "nbconvert_exporter": "python",
   "pygments_lexer": "ipython3",
   "version": "3.10.4"
  },
  "orig_nbformat": 4,
  "vscode": {
   "interpreter": {
    "hash": "3f15cc80c158df08fefdaea891f82d76a62269a556543ac40c434af592a4dd5e"
   }
  }
 },
 "nbformat": 4,
 "nbformat_minor": 2
}
